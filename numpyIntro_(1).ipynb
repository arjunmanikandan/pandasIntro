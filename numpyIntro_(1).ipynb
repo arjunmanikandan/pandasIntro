{
  "nbformat": 4,
  "nbformat_minor": 0,
  "metadata": {
    "colab": {
      "provenance": []
    },
    "kernelspec": {
      "name": "python3",
      "display_name": "Python 3"
    },
    "language_info": {
      "name": "python"
    }
  },
  "cells": [
    {
      "cell_type": "code",
      "execution_count": 90,
      "metadata": {
        "colab": {
          "base_uri": "https://localhost:8080/"
        },
        "id": "r4V88Zj5gmMb",
        "outputId": "0974b16f-487e-443d-c5e1-bfc9997a5c0d"
      },
      "outputs": [
        {
          "output_type": "stream",
          "name": "stdout",
          "text": [
            "[ 2 89 78]\n",
            "[[ 2 89 78]\n",
            " [23 56 78]\n",
            " [12 67 89]]\n"
          ]
        }
      ],
      "source": [
        "import numpy as np\n",
        "arr1 = np.array([2,89,78])\n",
        "arr2 = np.array([[2,89,78],[23,56,78],[12,67,89]])\n",
        "print(arr1)\n",
        "print(arr2)"
      ]
    },
    {
      "cell_type": "code",
      "source": [],
      "metadata": {
        "id": "-iFhPUenPFF8"
      },
      "execution_count": 90,
      "outputs": []
    },
    {
      "cell_type": "code",
      "source": [
        "#To find the dimension of the matrix\n",
        "print(arr1.ndim)\n",
        "print(arr2.ndim)"
      ],
      "metadata": {
        "colab": {
          "base_uri": "https://localhost:8080/"
        },
        "id": "OO3UioROp-B5",
        "outputId": "e18925b7-fd2a-44f9-fb25-338252404581"
      },
      "execution_count": 91,
      "outputs": [
        {
          "output_type": "stream",
          "name": "stdout",
          "text": [
            "1\n",
            "2\n"
          ]
        }
      ]
    },
    {
      "cell_type": "code",
      "source": [
        "#To find the shape  of the matrix The shape of an array is the number of elements in each dimension.\n",
        "print(arr1.shape)\n",
        "print(arr2.shape)"
      ],
      "metadata": {
        "id": "4fCKfBDVpfv_",
        "colab": {
          "base_uri": "https://localhost:8080/"
        },
        "outputId": "f60fed56-ecd4-4776-bdb0-8c89332c9189"
      },
      "execution_count": 92,
      "outputs": [
        {
          "output_type": "stream",
          "name": "stdout",
          "text": [
            "(3,)\n",
            "(3, 3)\n"
          ]
        }
      ]
    },
    {
      "cell_type": "code",
      "source": [
        "#Get Type\n",
        "print(arr1.dtype) # it prints 32 in the case of arr1 = np.array([2,89,78],dtype=\"int32\")"
      ],
      "metadata": {
        "colab": {
          "base_uri": "https://localhost:8080/"
        },
        "id": "kiqnPOX5OWCi",
        "outputId": "cbfec5b8-20ae-44b8-91d7-48facd6fcf94"
      },
      "execution_count": 93,
      "outputs": [
        {
          "output_type": "stream",
          "name": "stdout",
          "text": [
            "int64\n"
          ]
        }
      ]
    },
    {
      "cell_type": "code",
      "source": [
        "print(arr1.itemsize) #Length of one array element in bytes. Since it is in 64bits by default\n",
        "print(arr2.itemsize)\n",
        "print(arr1.nbytes) # Total bytes consumed by the elements of the array.\n",
        "print(arr2.nbytes)"
      ],
      "metadata": {
        "colab": {
          "base_uri": "https://localhost:8080/"
        },
        "id": "-JYAyCMIPyAv",
        "outputId": "e3bc2104-d0df-4dca-ddbf-0dacb6c185d2"
      },
      "execution_count": 94,
      "outputs": [
        {
          "output_type": "stream",
          "name": "stdout",
          "text": [
            "8\n",
            "8\n",
            "24\n",
            "72\n"
          ]
        }
      ]
    },
    {
      "cell_type": "code",
      "source": [
        "#To access a particular element [rowindex,column index] python both indexes start with zero\n",
        "#[2,89,78],[23,56,78],[12,67,89]]  89->-1 67-> -2 ...  last row -> -1\n",
        "print(arr2[1,2])\n",
        "print(arr2[1,0])\n",
        "print(arr2[-1,0])"
      ],
      "metadata": {
        "colab": {
          "base_uri": "https://localhost:8080/"
        },
        "id": "dkyhaaweRstm",
        "outputId": "f98fc667-f0c7-4d67-fe92-057f21ce6b73"
      },
      "execution_count": 95,
      "outputs": [
        {
          "output_type": "stream",
          "name": "stdout",
          "text": [
            "78\n",
            "23\n",
            "12\n"
          ]
        }
      ]
    },
    {
      "cell_type": "code",
      "source": [
        "#To get specific row\n",
        "print(arr2[0,:])\n",
        "print(arr1[-2])\n",
        "# to get specific column\n",
        "#[[ 2 89 78] [23 56 78] [12 67 89]]\n",
        "print(arr2[:,0])\n",
        "print(arr2[:,1])\n",
        "# to get specific numbers\n",
        "arr3 = np.array([[2,89,78,89,123],[23,56,78,99,203],[12,67,89,45,89]])\n",
        "print(arr2[0,0:3])\n",
        "print(arr2[0,0:4:2])\n",
        "print(arr2[0,-1:4:2])\n",
        "arr2[0,1] = 899\n",
        "arr2[:,2] = 0\n",
        "arr2[2,:] = 7\n",
        "print(arr2)\n",
        "arr2[2,:] = [11,12,13]\n",
        "print(arr2)\n"
      ],
      "metadata": {
        "id": "7Ugoi_VTTWPI",
        "colab": {
          "base_uri": "https://localhost:8080/"
        },
        "outputId": "ed218c56-708d-4da9-9831-eb20319f590e"
      },
      "execution_count": 96,
      "outputs": [
        {
          "output_type": "stream",
          "name": "stdout",
          "text": [
            "[ 2 89 78]\n",
            "89\n",
            "[ 2 23 12]\n",
            "[89 56 67]\n",
            "[ 2 89 78]\n",
            "[ 2 78]\n",
            "[78]\n",
            "[[  2 899   0]\n",
            " [ 23  56   0]\n",
            " [  7   7   7]]\n",
            "[[  2 899   0]\n",
            " [ 23  56   0]\n",
            " [ 11  12  13]]\n"
          ]
        }
      ]
    },
    {
      "cell_type": "code",
      "source": [
        "arr4 = np.array([[[1,2],[3,4]],[[5,6],[7,8]]])\n",
        "print(arr4)\n",
        "print(arr4[1,1,1])\n",
        "print(arr4[:,1,:])"
      ],
      "metadata": {
        "id": "gePZM9ziaD61",
        "colab": {
          "base_uri": "https://localhost:8080/"
        },
        "outputId": "8e062db2-9d12-44ef-a1e0-9600f4fe6202"
      },
      "execution_count": 97,
      "outputs": [
        {
          "output_type": "stream",
          "name": "stdout",
          "text": [
            "[[[1 2]\n",
            "  [3 4]]\n",
            "\n",
            " [[5 6]\n",
            "  [7 8]]]\n",
            "8\n",
            "[[3 4]\n",
            " [7 8]]\n"
          ]
        }
      ]
    },
    {
      "cell_type": "code",
      "source": [
        "#Initializing different types of arrays\n",
        "#All zeros matrix\n",
        "print(np.zeros(5))\n",
        "print(np.zeros((2,2))) # Any dimension\n",
        "#All 1s matrix\n",
        "print(np.ones(5))\n",
        "print(np.ones((2,2))) # you can also specify type print(np.ones((2,2),dtype=\"int32\"))\n",
        "# Any no matrix\n",
        "print(np.full((2,3),100)) # you can also mention dtype\n",
        "arr5 = np.array([[[1,2],[3,4]],[[5,6],[7,8]]])\n",
        "print(np.full_like(arr5,8))\n",
        "print(np.random.rand(2,4)) #random numbers between 0 and 1\n"
      ],
      "metadata": {
        "colab": {
          "base_uri": "https://localhost:8080/"
        },
        "id": "qFw69FJWsOc2",
        "outputId": "889f56ed-1045-4268-cad7-699b5d9f66d4"
      },
      "execution_count": 98,
      "outputs": [
        {
          "output_type": "stream",
          "name": "stdout",
          "text": [
            "[0. 0. 0. 0. 0.]\n",
            "[[0. 0.]\n",
            " [0. 0.]]\n",
            "[1. 1. 1. 1. 1.]\n",
            "[[1. 1.]\n",
            " [1. 1.]]\n",
            "[[100 100 100]\n",
            " [100 100 100]]\n",
            "[[[8 8]\n",
            "  [8 8]]\n",
            "\n",
            " [[8 8]\n",
            "  [8 8]]]\n",
            "[[0.59922298 0.40329155 0.32046027 0.48445516]\n",
            " [0.94443597 0.61935936 0.55838053 0.52790421]]\n"
          ]
        }
      ]
    },
    {
      "cell_type": "code",
      "source": [
        "print(np.random.randint(5,size=(2,2))) #random integer of your choice \n",
        "print(np.random.randint(1,5,size=(2,2))) #random integer of your choice  1 to 5 where 5 is exclusive\n",
        "print(np.identity(3)) #Identity matrix\n",
        "arr6 = np.array([[1,2,3]])\n",
        "print(arr6.repeat(3,axis=1))"
      ],
      "metadata": {
        "colab": {
          "base_uri": "https://localhost:8080/"
        },
        "id": "HWfIFIEBjTDs",
        "outputId": "d32cfa55-4d3a-45dc-ccb0-fa42c26cc293"
      },
      "execution_count": 99,
      "outputs": [
        {
          "output_type": "stream",
          "name": "stdout",
          "text": [
            "[[0 2]\n",
            " [1 1]]\n",
            "[[3 1]\n",
            " [2 3]]\n",
            "[[1. 0. 0.]\n",
            " [0. 1. 0.]\n",
            " [0. 0. 1.]]\n",
            "[[1 1 1 2 2 2 3 3 3]]\n"
          ]
        }
      ]
    },
    {
      "cell_type": "code",
      "source": [
        "a1 = np.ones((5,5))\n",
        "a2 = np.zeros((3,3))\n",
        "a2[1,1] = 9\n",
        "a1[1:4,1:4] = a2\n",
        "print(a1)"
      ],
      "metadata": {
        "colab": {
          "base_uri": "https://localhost:8080/"
        },
        "id": "wOOYeMa1mIMN",
        "outputId": "71fdac50-4d43-4a6b-8d68-75fd9cd31ebb"
      },
      "execution_count": 100,
      "outputs": [
        {
          "output_type": "stream",
          "name": "stdout",
          "text": [
            "[[1. 1. 1. 1. 1.]\n",
            " [1. 0. 0. 0. 1.]\n",
            " [1. 0. 9. 0. 1.]\n",
            " [1. 0. 0. 0. 1.]\n",
            " [1. 1. 1. 1. 1.]]\n"
          ]
        }
      ]
    },
    {
      "cell_type": "code",
      "source": [
        "#Be careful while copying arrays\n",
        "a = np.array([1,2,3])\n",
        "b = a\n",
        "b[0] = 1001\n",
        "print(a)\n",
        "print(b)\n",
        "#Correct method\n",
        "a = np.array([1,2,3])\n",
        "b = a.copy()\n",
        "b[0] = 1001\n",
        "print(a)\n",
        "print(b)"
      ],
      "metadata": {
        "colab": {
          "base_uri": "https://localhost:8080/"
        },
        "id": "ChwzKj4Hnppa",
        "outputId": "b2bd095c-f8b7-4892-8324-8108f2e9ce09"
      },
      "execution_count": 101,
      "outputs": [
        {
          "output_type": "stream",
          "name": "stdout",
          "text": [
            "[1001    2    3]\n",
            "[1001    2    3]\n",
            "[1 2 3]\n",
            "[1001    2    3]\n"
          ]
        }
      ]
    },
    {
      "cell_type": "code",
      "source": [
        "#Mathematics\n",
        "a = np.array([1,2,3])\n",
        "b = np.array([1,0,1])\n",
        "print(a+b)\n",
        "print(a+3)\n",
        "print(a*3)\n",
        "print(a-3)\n",
        "print(a/3)\n",
        "print(a**2)\n",
        "print(np.sign(a)) # 1 because of positive integers\n",
        "print(np.sin(a))"
      ],
      "metadata": {
        "colab": {
          "base_uri": "https://localhost:8080/"
        },
        "id": "5iW5PT2_oU6E",
        "outputId": "d4da90e6-8db8-4ab6-e418-f883a8d9fdb4"
      },
      "execution_count": 102,
      "outputs": [
        {
          "output_type": "stream",
          "name": "stdout",
          "text": [
            "[2 2 4]\n",
            "[4 5 6]\n",
            "[3 6 9]\n",
            "[-2 -1  0]\n",
            "[0.33333333 0.66666667 1.        ]\n",
            "[1 4 9]\n",
            "[1 1 1]\n",
            "[0.84147098 0.90929743 0.14112001]\n"
          ]
        }
      ]
    },
    {
      "cell_type": "code",
      "source": [
        "#Linear Algebra\n",
        "a = np.full((2,3),5)\n",
        "b = np.ones((3,4))\n",
        "print(a)\n",
        "print(b)\n",
        "print(np.matmul(a,b))\n",
        "#Determinants\n",
        "c = np.identity(3)\n",
        "print(np.linalg.det(c))"
      ],
      "metadata": {
        "colab": {
          "base_uri": "https://localhost:8080/"
        },
        "id": "L2HJ6cXyqtZw",
        "outputId": "7cfdcf92-a74e-490c-fe8a-ea6e987e4b9d"
      },
      "execution_count": 103,
      "outputs": [
        {
          "output_type": "stream",
          "name": "stdout",
          "text": [
            "[[5 5 5]\n",
            " [5 5 5]]\n",
            "[[1. 1. 1. 1.]\n",
            " [1. 1. 1. 1.]\n",
            " [1. 1. 1. 1.]]\n",
            "[[15. 15. 15. 15.]\n",
            " [15. 15. 15. 15.]]\n",
            "1.0\n"
          ]
        }
      ]
    },
    {
      "cell_type": "code",
      "source": [
        "#Statistics\n",
        "stats = np.array([[1,2,0],[99,101,101.5]])\n",
        "print(np.max(stats))    # rows (axis 0)   cols (axis 1)\n",
        "print(np.min(stats))\n",
        "print(np.sum(stats))"
      ],
      "metadata": {
        "colab": {
          "base_uri": "https://localhost:8080/"
        },
        "id": "JRNYtk3Is7Xy",
        "outputId": "ea3c9e24-7cfa-4b96-f2d1-5357dff1f985"
      },
      "execution_count": 104,
      "outputs": [
        {
          "output_type": "stream",
          "name": "stdout",
          "text": [
            "101.5\n",
            "0.0\n",
            "304.5\n"
          ]
        }
      ]
    },
    {
      "cell_type": "code",
      "source": [
        "#Reorganizing arrays\n",
        "before = np.array([1, 2, 3, 4, 5, 6])\n",
        "print(before)\n",
        "after  = before.reshape((2,3))\n",
        "print(after)\n",
        "# Making a random array\n",
        "gfg = np.array([1, 2, 3, 4, 5, 6])\n",
        "  \n",
        "# Required values 12, existing values 6\n",
        "gfg.resize(3, 4)\n",
        "print(gfg)"
      ],
      "metadata": {
        "colab": {
          "base_uri": "https://localhost:8080/"
        },
        "id": "Hku-GAJquWpv",
        "outputId": "1f0c35c1-a52f-410f-b29c-9c5a817e177c"
      },
      "execution_count": 105,
      "outputs": [
        {
          "output_type": "stream",
          "name": "stdout",
          "text": [
            "[1 2 3 4 5 6]\n",
            "[[1 2 3]\n",
            " [4 5 6]]\n",
            "[[1 2 3 4]\n",
            " [5 6 0 0]\n",
            " [0 0 0 0]]\n"
          ]
        }
      ]
    },
    {
      "cell_type": "code",
      "source": [
        "#Stacking vectors\n",
        "v1 = np.array([1,2,3,4])\n",
        "v2 = np.array([5,6,7,8])\n",
        "print(np.vstack([v1,v2,v2,v1]))\n",
        "print(np.hstack([v1,v2,v2,v1]))"
      ],
      "metadata": {
        "colab": {
          "base_uri": "https://localhost:8080/"
        },
        "id": "1O6lLXarvLL7",
        "outputId": "85803081-855b-4f7e-ed8a-1e50142b58b9"
      },
      "execution_count": 106,
      "outputs": [
        {
          "output_type": "stream",
          "name": "stdout",
          "text": [
            "[[1 2 3 4]\n",
            " [5 6 7 8]\n",
            " [5 6 7 8]\n",
            " [1 2 3 4]]\n",
            "[1 2 3 4 5 6 7 8 5 6 7 8 1 2 3 4]\n"
          ]
        }
      ]
    },
    {
      "cell_type": "code",
      "source": [
        "file_data = np.genfromtxt('/content/sample_data/array.txt',delimiter=\",\",dtype=\"int32\")\n",
        "print(file_data)\n",
        "file_data>50\n",
        "print(file_data[file_data>50])\n",
        "print(np.any(file_data>50,axis=0))\n",
        "print(np.all(file_data>50,axis=0))\n",
        "print((file_data>5) & (file_data<100))"
      ],
      "metadata": {
        "colab": {
          "base_uri": "https://localhost:8080/"
        },
        "id": "Ud3IOif4ExjQ",
        "outputId": "5e4ddfde-5462-41b2-fcc9-5bd12f281f01"
      },
      "execution_count": 107,
      "outputs": [
        {
          "output_type": "stream",
          "name": "stdout",
          "text": [
            "[[  1  13  21  11 196  75   4   3  34   6   7   8   0   1   2   3   4   5]\n",
            " [  3  42  12  33 766  75   4  55   6   4   3   4   5   6   7   0  11  12]\n",
            " [  1  22  33  11 999  11   2   1  78   0   1   2   9   8   7   1  76  88]]\n",
            "[196  75 766  75  55 999  78  76  88]\n",
            "[False False False False  True  True False  True  True False False False\n",
            " False False False False  True  True]\n",
            "[False False False False  True False False False False False False False\n",
            " False False False False False False]\n",
            "[[False  True  True  True False  True False False  True  True  True  True\n",
            "  False False False False False False]\n",
            " [False  True  True  True False  True False  True  True False False False\n",
            "  False  True  True False  True  True]\n",
            " [False  True  True  True False  True False False  True False False False\n",
            "   True  True  True False  True  True]]\n"
          ]
        }
      ]
    },
    {
      "cell_type": "code",
      "source": [
        "a1 = np.array([1,2,3,78,90])\n",
        "print(a1[[0,1,4]])"
      ],
      "metadata": {
        "colab": {
          "base_uri": "https://localhost:8080/"
        },
        "id": "6rXGdyhkGdCJ",
        "outputId": "366b6251-2c10-48bb-aa19-7dbe3b5e60f8"
      },
      "execution_count": 108,
      "outputs": [
        {
          "output_type": "stream",
          "name": "stdout",
          "text": [
            "[ 1  2 90]\n"
          ]
        }
      ]
    }
  ]
}